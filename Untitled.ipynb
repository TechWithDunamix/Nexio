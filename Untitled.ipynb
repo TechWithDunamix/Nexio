{
 "cells": [
  {
   "cell_type": "code",
   "execution_count": 23,
   "id": "1b0098ca-48e2-4e2c-8c09-8c292d8d0b2c",
   "metadata": {},
   "outputs": [
    {
     "name": "stdout",
     "output_type": "stream",
     "text": [
      "hello world\n"
     ]
    },
    {
     "data": {
      "text/plain": [
       "<__main__.Asunc at 0x7e44284747a0>"
      ]
     },
     "execution_count": 23,
     "metadata": {},
     "output_type": "execute_result"
    }
   ],
   "source": [
    "import asyncio\n",
    "class Asunc:\n",
    "    def __init__(self):\n",
    "        self.__call__()\n",
    "    def __call__(self,**kwargs):\n",
    "        print(\"hello world\")\n",
    "\n",
    "        \n",
    "\n",
    "Asunc()\n"
   ]
  },
  {
   "cell_type": "code",
   "execution_count": 24,
   "id": "eb5cd459-19d4-4b90-902c-56cd85b2fbd3",
   "metadata": {},
   "outputs": [
    {
     "ename": "SyntaxError",
     "evalue": "invalid syntax (2846238969.py, line 2)",
     "output_type": "error",
     "traceback": [
      "\u001b[0;36m  Cell \u001b[0;32mIn[24], line 2\u001b[0;36m\u001b[0m\n\u001b[0;31m    async class Asunc:\u001b[0m\n\u001b[0m          ^\u001b[0m\n\u001b[0;31mSyntaxError\u001b[0m\u001b[0;31m:\u001b[0m invalid syntax\n"
     ]
    }
   ],
   "source": [
    "import asyncio\n",
    "async class Asunc:\n",
    "    def __init__(self):\n",
    "        self.__call__()\n",
    "    def __call__(self,**kwargs):\n",
    "        print(\"hello world\")\n",
    "\n",
    "\n",
    "Asunc()\n"
   ]
  },
  {
   "cell_type": "code",
   "execution_count": null,
   "id": "a96e7b15-9519-48af-89a4-2cb5daca597e",
   "metadata": {},
   "outputs": [],
   "source": []
  }
 ],
 "metadata": {
  "kernelspec": {
   "display_name": "Python 3 (ipykernel)",
   "language": "python",
   "name": "python3"
  },
  "language_info": {
   "codemirror_mode": {
    "name": "ipython",
    "version": 3
   },
   "file_extension": ".py",
   "mimetype": "text/x-python",
   "name": "python",
   "nbconvert_exporter": "python",
   "pygments_lexer": "ipython3",
   "version": "3.12.3"
  }
 },
 "nbformat": 4,
 "nbformat_minor": 5
}
